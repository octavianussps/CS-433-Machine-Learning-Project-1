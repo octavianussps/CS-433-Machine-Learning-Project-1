{
 "cells": [
  {
   "cell_type": "code",
   "execution_count": 5,
   "metadata": {},
   "outputs": [],
   "source": [
    "%matplotlib inline\n",
    "import numpy as np\n",
    "import matplotlib.pyplot as plt\n",
    "%load_ext autoreload\n",
    "%autoreload 2"
   ]
  },
  {
   "cell_type": "code",
   "execution_count": 1,
   "metadata": {},
   "outputs": [],
   "source": [
    "from proj1_helpers import *\n",
    "#import pandas as pd"
   ]
  },
  {
   "cell_type": "markdown",
   "metadata": {},
   "source": [
    "Import the data (Class, Features, Ids)"
   ]
  },
  {
   "cell_type": "code",
   "execution_count": 2,
   "metadata": {},
   "outputs": [],
   "source": [
    "y, tX, ids = load_csv_data(\"../data/train.csv\")"
   ]
  },
  {
   "cell_type": "markdown",
   "metadata": {},
   "source": [
    "Check the Features"
   ]
  },
  {
   "cell_type": "code",
   "execution_count": 28,
   "metadata": {},
   "outputs": [
    {
     "data": {
      "text/plain": [
       "(250000, 30)"
      ]
     },
     "execution_count": 28,
     "metadata": {},
     "output_type": "execute_result"
    }
   ],
   "source": [
    "tX.shape"
   ]
  },
  {
   "cell_type": "markdown",
   "metadata": {},
   "source": [
    "Check Null Values"
   ]
  },
  {
   "cell_type": "code",
   "execution_count": 3,
   "metadata": {},
   "outputs": [
    {
     "data": {
      "text/plain": [
       "array([], shape=(0, 2), dtype=int64)"
      ]
     },
     "execution_count": 3,
     "metadata": {},
     "output_type": "execute_result"
    }
   ],
   "source": [
    "np.argwhere(np.isnan(tX))\n",
    "#result none"
   ]
  },
  {
   "cell_type": "code",
   "execution_count": 10,
   "metadata": {},
   "outputs": [
    {
     "data": {
      "text/plain": [
       "{'whiskers': [<matplotlib.lines.Line2D at 0x7f60639117b8>,\n",
       "  <matplotlib.lines.Line2D at 0x7f6063911b38>,\n",
       "  <matplotlib.lines.Line2D at 0x7f60638ae0b8>,\n",
       "  <matplotlib.lines.Line2D at 0x7f60638ae438>,\n",
       "  <matplotlib.lines.Line2D at 0x7f60638b8978>,\n",
       "  <matplotlib.lines.Line2D at 0x7f60638b8cf8>,\n",
       "  <matplotlib.lines.Line2D at 0x7f60638cf278>,\n",
       "  <matplotlib.lines.Line2D at 0x7f60638cf5f8>,\n",
       "  <matplotlib.lines.Line2D at 0x7f606385cb38>,\n",
       "  <matplotlib.lines.Line2D at 0x7f606385ceb8>,\n",
       "  <matplotlib.lines.Line2D at 0x7f6063874438>,\n",
       "  <matplotlib.lines.Line2D at 0x7f60638747b8>,\n",
       "  <matplotlib.lines.Line2D at 0x7f606387fcf8>,\n",
       "  <matplotlib.lines.Line2D at 0x7f606388b0b8>,\n",
       "  <matplotlib.lines.Line2D at 0x7f60638795f8>,\n",
       "  <matplotlib.lines.Line2D at 0x7f6063879978>,\n",
       "  <matplotlib.lines.Line2D at 0x7f6063822eb8>,\n",
       "  <matplotlib.lines.Line2D at 0x7f606382c278>,\n",
       "  <matplotlib.lines.Line2D at 0x7f60638387b8>,\n",
       "  <matplotlib.lines.Line2D at 0x7f6063838b38>,\n",
       "  <matplotlib.lines.Line2D at 0x7f60638510b8>,\n",
       "  <matplotlib.lines.Line2D at 0x7f6063851438>,\n",
       "  <matplotlib.lines.Line2D at 0x7f60637da978>,\n",
       "  <matplotlib.lines.Line2D at 0x7f60637dacf8>,\n",
       "  <matplotlib.lines.Line2D at 0x7f60637f2278>,\n",
       "  <matplotlib.lines.Line2D at 0x7f60637f25f8>,\n",
       "  <matplotlib.lines.Line2D at 0x7f6063800b38>,\n",
       "  <matplotlib.lines.Line2D at 0x7f6063800eb8>,\n",
       "  <matplotlib.lines.Line2D at 0x7f6068b884e0>,\n",
       "  <matplotlib.lines.Line2D at 0x7f60b46d3048>,\n",
       "  <matplotlib.lines.Line2D at 0x7f6068a801d0>,\n",
       "  <matplotlib.lines.Line2D at 0x7f6068a80a58>,\n",
       "  <matplotlib.lines.Line2D at 0x7f6068b49a90>,\n",
       "  <matplotlib.lines.Line2D at 0x7f6068a2b198>,\n",
       "  <matplotlib.lines.Line2D at 0x7f6068a4abe0>,\n",
       "  <matplotlib.lines.Line2D at 0x7f6068a4a2e8>,\n",
       "  <matplotlib.lines.Line2D at 0x7f60638005f8>,\n",
       "  <matplotlib.lines.Line2D at 0x7f606b3addd8>,\n",
       "  <matplotlib.lines.Line2D at 0x7f60614be240>,\n",
       "  <matplotlib.lines.Line2D at 0x7f60614be588>,\n",
       "  <matplotlib.lines.Line2D at 0x7f60614c9978>,\n",
       "  <matplotlib.lines.Line2D at 0x7f60614c9cc0>,\n",
       "  <matplotlib.lines.Line2D at 0x7f60614e40f0>,\n",
       "  <matplotlib.lines.Line2D at 0x7f60614e4438>,\n",
       "  <matplotlib.lines.Line2D at 0x7f606146e828>,\n",
       "  <matplotlib.lines.Line2D at 0x7f606146eb70>,\n",
       "  <matplotlib.lines.Line2D at 0x7f6061479f60>,\n",
       "  <matplotlib.lines.Line2D at 0x7f60614872e8>,\n",
       "  <matplotlib.lines.Line2D at 0x7f60614926d8>,\n",
       "  <matplotlib.lines.Line2D at 0x7f6061492a20>,\n",
       "  <matplotlib.lines.Line2D at 0x7f606149fe10>,\n",
       "  <matplotlib.lines.Line2D at 0x7f60614aa198>,\n",
       "  <matplotlib.lines.Line2D at 0x7f6061435588>,\n",
       "  <matplotlib.lines.Line2D at 0x7f60614358d0>,\n",
       "  <matplotlib.lines.Line2D at 0x7f6061443cc0>,\n",
       "  <matplotlib.lines.Line2D at 0x7f606144f048>,\n",
       "  <matplotlib.lines.Line2D at 0x7f606145b438>,\n",
       "  <matplotlib.lines.Line2D at 0x7f606145b780>,\n",
       "  <matplotlib.lines.Line2D at 0x7f6061467b70>,\n",
       "  <matplotlib.lines.Line2D at 0x7f6061467eb8>],\n",
       " 'caps': [<matplotlib.lines.Line2D at 0x7f6063911eb8>,\n",
       "  <matplotlib.lines.Line2D at 0x7f60638a2278>,\n",
       "  <matplotlib.lines.Line2D at 0x7f60638ae7b8>,\n",
       "  <matplotlib.lines.Line2D at 0x7f60638aeb38>,\n",
       "  <matplotlib.lines.Line2D at 0x7f60638c50b8>,\n",
       "  <matplotlib.lines.Line2D at 0x7f60638c5438>,\n",
       "  <matplotlib.lines.Line2D at 0x7f60638cf978>,\n",
       "  <matplotlib.lines.Line2D at 0x7f60638cfcf8>,\n",
       "  <matplotlib.lines.Line2D at 0x7f6063867278>,\n",
       "  <matplotlib.lines.Line2D at 0x7f60638675f8>,\n",
       "  <matplotlib.lines.Line2D at 0x7f6063874b38>,\n",
       "  <matplotlib.lines.Line2D at 0x7f6063874eb8>,\n",
       "  <matplotlib.lines.Line2D at 0x7f606388b438>,\n",
       "  <matplotlib.lines.Line2D at 0x7f606388b7b8>,\n",
       "  <matplotlib.lines.Line2D at 0x7f6063879cf8>,\n",
       "  <matplotlib.lines.Line2D at 0x7f60638220b8>,\n",
       "  <matplotlib.lines.Line2D at 0x7f606382c5f8>,\n",
       "  <matplotlib.lines.Line2D at 0x7f606382c978>,\n",
       "  <matplotlib.lines.Line2D at 0x7f6063838eb8>,\n",
       "  <matplotlib.lines.Line2D at 0x7f6063843278>,\n",
       "  <matplotlib.lines.Line2D at 0x7f60638517b8>,\n",
       "  <matplotlib.lines.Line2D at 0x7f6063851b38>,\n",
       "  <matplotlib.lines.Line2D at 0x7f60637e50b8>,\n",
       "  <matplotlib.lines.Line2D at 0x7f60637e5438>,\n",
       "  <matplotlib.lines.Line2D at 0x7f60637f2978>,\n",
       "  <matplotlib.lines.Line2D at 0x7f60637f2cf8>,\n",
       "  <matplotlib.lines.Line2D at 0x7f606380a278>,\n",
       "  <matplotlib.lines.Line2D at 0x7f606380a5f8>,\n",
       "  <matplotlib.lines.Line2D at 0x7f6068abda90>,\n",
       "  <matplotlib.lines.Line2D at 0x7f6068a5e710>,\n",
       "  <matplotlib.lines.Line2D at 0x7f6068a36e80>,\n",
       "  <matplotlib.lines.Line2D at 0x7f6068a68dd8>,\n",
       "  <matplotlib.lines.Line2D at 0x7f60638e2f28>,\n",
       "  <matplotlib.lines.Line2D at 0x7f60638fc828>,\n",
       "  <matplotlib.lines.Line2D at 0x7f60638b8b38>,\n",
       "  <matplotlib.lines.Line2D at 0x7f60638cf438>,\n",
       "  <matplotlib.lines.Line2D at 0x7f606b3ada90>,\n",
       "  <matplotlib.lines.Line2D at 0x7f60689637f0>,\n",
       "  <matplotlib.lines.Line2D at 0x7f60614be8d0>,\n",
       "  <matplotlib.lines.Line2D at 0x7f60614bec18>,\n",
       "  <matplotlib.lines.Line2D at 0x7f60614d7048>,\n",
       "  <matplotlib.lines.Line2D at 0x7f60614d7390>,\n",
       "  <matplotlib.lines.Line2D at 0x7f60614e4780>,\n",
       "  <matplotlib.lines.Line2D at 0x7f60614e4ac8>,\n",
       "  <matplotlib.lines.Line2D at 0x7f606146eeb8>,\n",
       "  <matplotlib.lines.Line2D at 0x7f6061479240>,\n",
       "  <matplotlib.lines.Line2D at 0x7f6061487630>,\n",
       "  <matplotlib.lines.Line2D at 0x7f6061487978>,\n",
       "  <matplotlib.lines.Line2D at 0x7f6061492d68>,\n",
       "  <matplotlib.lines.Line2D at 0x7f606149f0f0>,\n",
       "  <matplotlib.lines.Line2D at 0x7f60614aa4e0>,\n",
       "  <matplotlib.lines.Line2D at 0x7f60614aa828>,\n",
       "  <matplotlib.lines.Line2D at 0x7f6061435c18>,\n",
       "  <matplotlib.lines.Line2D at 0x7f6061435f60>,\n",
       "  <matplotlib.lines.Line2D at 0x7f606144f390>,\n",
       "  <matplotlib.lines.Line2D at 0x7f606144f6d8>,\n",
       "  <matplotlib.lines.Line2D at 0x7f606145bac8>,\n",
       "  <matplotlib.lines.Line2D at 0x7f606145be10>,\n",
       "  <matplotlib.lines.Line2D at 0x7f60613f4240>,\n",
       "  <matplotlib.lines.Line2D at 0x7f60613f4588>],\n",
       " 'boxes': [<matplotlib.lines.Line2D at 0x7f60639114a8>,\n",
       "  <matplotlib.lines.Line2D at 0x7f60638a2cc0>,\n",
       "  <matplotlib.lines.Line2D at 0x7f60638b85c0>,\n",
       "  <matplotlib.lines.Line2D at 0x7f60638c5e80>,\n",
       "  <matplotlib.lines.Line2D at 0x7f606385c780>,\n",
       "  <matplotlib.lines.Line2D at 0x7f6063874080>,\n",
       "  <matplotlib.lines.Line2D at 0x7f606387f940>,\n",
       "  <matplotlib.lines.Line2D at 0x7f6063879240>,\n",
       "  <matplotlib.lines.Line2D at 0x7f6063822b00>,\n",
       "  <matplotlib.lines.Line2D at 0x7f6063838400>,\n",
       "  <matplotlib.lines.Line2D at 0x7f6063843cc0>,\n",
       "  <matplotlib.lines.Line2D at 0x7f60637da5c0>,\n",
       "  <matplotlib.lines.Line2D at 0x7f60637e5e80>,\n",
       "  <matplotlib.lines.Line2D at 0x7f6063800780>,\n",
       "  <matplotlib.lines.Line2D at 0x7f60614ec080>,\n",
       "  <matplotlib.lines.Line2D at 0x7f6068a74320>,\n",
       "  <matplotlib.lines.Line2D at 0x7f6068b49908>,\n",
       "  <matplotlib.lines.Line2D at 0x7f6068a4ab38>,\n",
       "  <matplotlib.lines.Line2D at 0x7f6063843438>,\n",
       "  <matplotlib.lines.Line2D at 0x7f60614ece80>,\n",
       "  <matplotlib.lines.Line2D at 0x7f60614c95f8>,\n",
       "  <matplotlib.lines.Line2D at 0x7f60614d7d30>,\n",
       "  <matplotlib.lines.Line2D at 0x7f606146e4a8>,\n",
       "  <matplotlib.lines.Line2D at 0x7f6061479be0>,\n",
       "  <matplotlib.lines.Line2D at 0x7f6061492358>,\n",
       "  <matplotlib.lines.Line2D at 0x7f606149fa90>,\n",
       "  <matplotlib.lines.Line2D at 0x7f6061435208>,\n",
       "  <matplotlib.lines.Line2D at 0x7f6061443940>,\n",
       "  <matplotlib.lines.Line2D at 0x7f606145b0b8>,\n",
       "  <matplotlib.lines.Line2D at 0x7f60614677f0>],\n",
       " 'medians': [<matplotlib.lines.Line2D at 0x7f60638a25f8>,\n",
       "  <matplotlib.lines.Line2D at 0x7f60638aeeb8>,\n",
       "  <matplotlib.lines.Line2D at 0x7f60638c57b8>,\n",
       "  <matplotlib.lines.Line2D at 0x7f606385c0b8>,\n",
       "  <matplotlib.lines.Line2D at 0x7f6063867978>,\n",
       "  <matplotlib.lines.Line2D at 0x7f606387f278>,\n",
       "  <matplotlib.lines.Line2D at 0x7f606388bb38>,\n",
       "  <matplotlib.lines.Line2D at 0x7f6063822438>,\n",
       "  <matplotlib.lines.Line2D at 0x7f606382ccf8>,\n",
       "  <matplotlib.lines.Line2D at 0x7f60638435f8>,\n",
       "  <matplotlib.lines.Line2D at 0x7f6063851eb8>,\n",
       "  <matplotlib.lines.Line2D at 0x7f60637e57b8>,\n",
       "  <matplotlib.lines.Line2D at 0x7f60638000b8>,\n",
       "  <matplotlib.lines.Line2D at 0x7f606380a978>,\n",
       "  <matplotlib.lines.Line2D at 0x7f6068a5e390>,\n",
       "  <matplotlib.lines.Line2D at 0x7f6068a68780>,\n",
       "  <matplotlib.lines.Line2D at 0x7f60638e67b8>,\n",
       "  <matplotlib.lines.Line2D at 0x7f606387fb38>,\n",
       "  <matplotlib.lines.Line2D at 0x7f60614ec828>,\n",
       "  <matplotlib.lines.Line2D at 0x7f60614bef60>,\n",
       "  <matplotlib.lines.Line2D at 0x7f60614d76d8>,\n",
       "  <matplotlib.lines.Line2D at 0x7f60614e4e10>,\n",
       "  <matplotlib.lines.Line2D at 0x7f6061479588>,\n",
       "  <matplotlib.lines.Line2D at 0x7f6061487cc0>,\n",
       "  <matplotlib.lines.Line2D at 0x7f606149f438>,\n",
       "  <matplotlib.lines.Line2D at 0x7f60614aab70>,\n",
       "  <matplotlib.lines.Line2D at 0x7f60614432e8>,\n",
       "  <matplotlib.lines.Line2D at 0x7f606144fa20>,\n",
       "  <matplotlib.lines.Line2D at 0x7f6061467198>,\n",
       "  <matplotlib.lines.Line2D at 0x7f60613f48d0>],\n",
       " 'fliers': [<matplotlib.lines.Line2D at 0x7f60638a2978>,\n",
       "  <matplotlib.lines.Line2D at 0x7f60638b8278>,\n",
       "  <matplotlib.lines.Line2D at 0x7f60638c5b38>,\n",
       "  <matplotlib.lines.Line2D at 0x7f606385c438>,\n",
       "  <matplotlib.lines.Line2D at 0x7f6063867cf8>,\n",
       "  <matplotlib.lines.Line2D at 0x7f606387f5f8>,\n",
       "  <matplotlib.lines.Line2D at 0x7f606388beb8>,\n",
       "  <matplotlib.lines.Line2D at 0x7f60638227b8>,\n",
       "  <matplotlib.lines.Line2D at 0x7f60638380b8>,\n",
       "  <matplotlib.lines.Line2D at 0x7f6063843978>,\n",
       "  <matplotlib.lines.Line2D at 0x7f60637da278>,\n",
       "  <matplotlib.lines.Line2D at 0x7f60637e5b38>,\n",
       "  <matplotlib.lines.Line2D at 0x7f6063800438>,\n",
       "  <matplotlib.lines.Line2D at 0x7f606380acf8>,\n",
       "  <matplotlib.lines.Line2D at 0x7f6068a74898>,\n",
       "  <matplotlib.lines.Line2D at 0x7f6068b49198>,\n",
       "  <matplotlib.lines.Line2D at 0x7f60638e6c18>,\n",
       "  <matplotlib.lines.Line2D at 0x7f6063822278>,\n",
       "  <matplotlib.lines.Line2D at 0x7f60614ecb70>,\n",
       "  <matplotlib.lines.Line2D at 0x7f60614c92e8>,\n",
       "  <matplotlib.lines.Line2D at 0x7f60614d7a20>,\n",
       "  <matplotlib.lines.Line2D at 0x7f606146e198>,\n",
       "  <matplotlib.lines.Line2D at 0x7f60614798d0>,\n",
       "  <matplotlib.lines.Line2D at 0x7f6061492048>,\n",
       "  <matplotlib.lines.Line2D at 0x7f606149f780>,\n",
       "  <matplotlib.lines.Line2D at 0x7f60614aaeb8>,\n",
       "  <matplotlib.lines.Line2D at 0x7f6061443630>,\n",
       "  <matplotlib.lines.Line2D at 0x7f606144fd68>,\n",
       "  <matplotlib.lines.Line2D at 0x7f60614674e0>,\n",
       "  <matplotlib.lines.Line2D at 0x7f60613f4c18>],\n",
       " 'means': []}"
      ]
     },
     "execution_count": 10,
     "metadata": {},
     "output_type": "execute_result"
    },
    {
     "data": {
      "image/png": "[encoded data removed]",
      "text/plain": [
       "<Figure size 432x288 with 1 Axes>"
      ]
     },
     "metadata": {
      "needs_background": "light"
     },
     "output_type": "display_data"
    }
   ],
   "source": [
    "plt.boxplot(tX)"
   ]
  },
  {
   "cell_type": "code",
   "execution_count": null,
   "metadata": {},
   "outputs": [],
   "source": []
  }
 ],
 "metadata": {
  "kernelspec": {
   "display_name": "Python 3",
   "language": "python",
   "name": "python3"
  },
  "language_info": {
   "codemirror_mode": {
    "name": "ipython",
    "version": 3
   },
   "file_extension": ".py",
   "mimetype": "text/x-python",
   "name": "python",
   "nbconvert_exporter": "python",
   "pygments_lexer": "ipython3",
   "version": "3.6.9"
  }
 },
 "nbformat": 4,
 "nbformat_minor": 4
}
