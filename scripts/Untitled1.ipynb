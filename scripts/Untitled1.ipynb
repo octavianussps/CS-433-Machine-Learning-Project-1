{
 "cells": [
  {
   "cell_type": "code",
   "execution_count": 3,
   "metadata": {},
   "outputs": [
    {
     "name": "stdout",
     "output_type": "stream",
     "text": [
      "LOAD DATA\n",
      "FILTERING DATA\n",
      "FINDING DEGREE\n",
      "BUILDING POLYNOMIALS with degree  10\n",
      "LEARNING MODEL BY LEAST SQUARES\n",
      "PREDICTING VALUES\n",
      "EXPORTING CSV\n"
     ]
    }
   ],
   "source": [
    "from run import *\n",
    "main()"
   ]
  }
 ],
 "metadata": {
  "kernelspec": {
   "display_name": "Python 3",
   "language": "python",
   "name": "python3"
  },
  "language_info": {
   "codemirror_mode": {
    "name": "ipython",
    "version": 3
   },
   "file_extension": ".py",
   "mimetype": "text/x-python",
   "name": "python",
   "nbconvert_exporter": "python",
   "pygments_lexer": "ipython3",
   "version": "3.6.8"
  }
 },
 "nbformat": 4,
 "nbformat_minor": 4
}
